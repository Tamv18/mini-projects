{
  "nbformat": 4,
  "nbformat_minor": 0,
  "metadata": {
    "colab": {
      "provenance": [],
      "toc_visible": true
    },
    "kernelspec": {
      "name": "python3",
      "display_name": "Python 3"
    },
    "language_info": {
      "name": "python"
    }
  },
  "cells": [
    {
      "cell_type": "code",
      "source": [
        "def calculate_bmi(weight, height):\n",
        "    # Convert height from centimeters to meters\n",
        "    height_in_meters = height / 100\n",
        "    bmi = weight / (height_in_meters ** 2)\n",
        "    return bmi\n",
        "\n",
        "# Asking users for input\n",
        "weight = float(input(\"Enter your weight in kilograms (kg): \"))\n",
        "height = float(input(\"Enter your height in centimeters (cm): \"))\n",
        "\n",
        "# Calculating the BMI\n",
        "bmi = calculate_bmi(weight, height)\n",
        "print(f\"Your BMI is: {bmi:.2f}\")\n",
        "\n",
        "# Result Interpretation\n",
        "if bmi < 18.5:\n",
        "    print(\"You are underweight.\")\n",
        "elif 18.5 <= bmi < 24.9:\n",
        "    print(\"You have a normal weight.\")\n",
        "elif 25 <= bmi < 29.9:\n",
        "    print(\"You are overweight.\")\n",
        "else:\n",
        "    print(\"You are obese.\")"
      ],
      "metadata": {
        "colab": {
          "base_uri": "https://localhost:8080/"
        },
        "id": "-qmWCB888C3A",
        "outputId": "7c3151b7-4245-4937-a74f-3092bb828fc1"
      },
      "execution_count": 2,
      "outputs": [
        {
          "output_type": "stream",
          "name": "stdout",
          "text": [
            "Enter your weight in kilograms (kg): 45\n",
            "Enter your height in centimeters (cm): 160\n",
            "Your BMI is: 17.58\n",
            "You are underweight.\n"
          ]
        }
      ]
    },
    {
      "cell_type": "markdown",
      "source": [
        "#  BMI Calculator Project\n",
        "\n",
        "This project calculates Body Mass Index (BMI) based on user input for weight (kg) and height (m), and gives a health category (underweight, normal, overweight, or obese).\n",
        "\n",
        "**Formula**:  \n",
        "BMI = weight / (height)^2\n",
        "\n"
      ],
      "metadata": {
        "id": "yBRjgkBJ9tkj"
      }
    }
  ]
}